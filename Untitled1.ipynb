{
  "nbformat": 4,
  "nbformat_minor": 0,
  "metadata": {
    "colab": {
      "provenance": []
    },
    "kernelspec": {
      "name": "python3",
      "display_name": "Python 3"
    },
    "language_info": {
      "name": "python"
    }
  },
  "cells": [
    {
      "cell_type": "markdown",
      "source": [
        "[22,27,16,2,18,6] -> Insertion Sort\n",
        "\n",
        "Yukarı verilen dizinin sort türüne göre aşamalarını yazınız.\n",
        "\n",
        "Verilen örüntüye ait en küçük elemanı bulup en baştaki sayıyla yerini değiştireceğiz. Sonra ikinci en küçük, sonra üçüncü en küçük şeklinde devam ediyoruz.\n",
        "\n",
        "1- [22,27,16,2,18,6] 2- [2,27,16,22,18,6] 3- [2,6,16,22,18,27] 4- [2,6,16,18,22,27]\n",
        "\n",
        "Big-O gösterimini yazınız.\n",
        "\n",
        "Big-O = O(n^2)\n",
        "\n",
        "Time Complexity: Dizi sıralandıktan sonra 18 sayısı case'lerden hangisinin kapsamına girer? Yazınız.\n",
        "\n",
        "18 sayısı [2,6,16,18,22,27] dizisinin ortalarında bulunduğundan dolayı \"Average Case\" kapsamına girer.\n",
        "\n",
        "[7,3,5,8,2,9,4,15,6] dizisinin Selection Sort'a göre ilk 4 adımını yazınız.\n",
        "\n",
        "1- [2,3,5,8,7,9,4,15,6] 2- [2,3,4,8,7,9,5,15,6] 3- [2,3,4,5,7,9,8,15,6] 4- [2,3,4,5,6,9,8,15,7]"
      ],
      "metadata": {
        "id": "VC5K2s5Ag-n1"
      }
    }
  ]
}