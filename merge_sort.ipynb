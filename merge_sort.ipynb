{
 "cells": [
  {
   "cell_type": "markdown",
   "id": "2c5db543",
   "metadata": {},
   "source": [
    "Merge-Sorting Aşamaları:\n",
    " Önce[16,21,11], [8,12,22] olarak bölüyoruz ve daha sonra [16,21], [11] olarak ayırıyoruz. Aynı işlemi sağ bölüm için [8,12] ve [22] olarak ayrılacak şekilde tekrarlıyoruz. Sol ve sağ tarafı kendi aralarında büyükten küçüğe sıraladıktan sonra birleştiriyor ve bir sıralama işlemi daha gerçekleştiriyoruz.\n",
    "Sonuç : [8,11,12,16,21,22]\n",
    "Big-O gösterimi :\n",
    "O(nlog(n))"
   ]
  }
 ],
 "metadata": {
  "kernelspec": {
   "display_name": "Python 3 (ipykernel)",
   "language": "python",
   "name": "python3"
  },
  "language_info": {
   "codemirror_mode": {
    "name": "ipython",
    "version": 3
   },
   "file_extension": ".py",
   "mimetype": "text/x-python",
   "name": "python",
   "nbconvert_exporter": "python",
   "pygments_lexer": "ipython3",
   "version": "3.9.13"
  }
 },
 "nbformat": 4,
 "nbformat_minor": 5
}
