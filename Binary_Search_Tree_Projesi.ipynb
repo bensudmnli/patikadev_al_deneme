{
 "cells": [
  {
   "cell_type": "markdown",
   "id": "ceeff9ef",
   "metadata": {},
   "source": [
    "[7,5,1,8,3,6,0,9,4,2]\n",
    "\n",
    "Root : 6\n",
    "\n",
    "            6\n",
    "          /   \\\n",
    "         4     8\n",
    "        / \\   / \\\n",
    "       2   5 7   9\n",
    "      / \\\n",
    "     1   3\n",
    "    /\n",
    "   0"
   ]
  }
 ],
 "metadata": {
  "kernelspec": {
   "display_name": "Python 3 (ipykernel)",
   "language": "python",
   "name": "python3"
  },
  "language_info": {
   "codemirror_mode": {
    "name": "ipython",
    "version": 3
   },
   "file_extension": ".py",
   "mimetype": "text/x-python",
   "name": "python",
   "nbconvert_exporter": "python",
   "pygments_lexer": "ipython3",
   "version": "3.9.13"
  }
 },
 "nbformat": 4,
 "nbformat_minor": 5
}
